{
 "cells": [
  {
   "cell_type": "markdown",
   "metadata": {},
   "source": [
    "### This file contains all the code for the project"
   ]
  },
  {
   "cell_type": "code",
   "execution_count": 1,
   "metadata": {},
   "outputs": [],
   "source": [
    "import os\n",
    "import re\n",
    "import cv2\n",
    "import math\n",
    "import torch\n",
    "import torchvision\n",
    "\n",
    "import numpy as np\n",
    "import pandas as pd\n",
    "import torch.nn as nn\n",
    "import matplotlib.pyplot as plt\n",
    "import torchvision.models as models\n",
    "import torch.nn.functional as F\n",
    "\n",
    "from PIL import Image\n",
    "from collections import OrderedDict\n",
    "from typing import List, Type, Union\n",
    "from natsort import natsorted\n",
    "from torch import optim\n",
    "from torch.autograd import Variable\n",
    "from torch.hub import load_state_dict_from_url\n",
    "from torch.utils.data import DataLoader\n",
    "from torchvision import transforms\n",
    "from torchvision.datasets import ImageFolder\n",
    "from torchsummary import summary"
   ]
  },
  {
   "cell_type": "code",
   "execution_count": 2,
   "metadata": {},
   "outputs": [
    {
     "name": "stdout",
     "output_type": "stream",
     "text": [
      "Using device: cuda\n"
     ]
    }
   ],
   "source": [
    "device = torch.device('cuda' if torch.cuda.is_available() else 'cpu')\n",
    "print('Using device:', device)"
   ]
  },
  {
   "cell_type": "markdown",
   "metadata": {},
   "source": [
    "# Data Augmentation"
   ]
  },
  {
   "cell_type": "code",
   "execution_count": 3,
   "metadata": {},
   "outputs": [],
   "source": [
    "def get_mean_and_std(dataset):\n",
    "    '''Compute the mean and std value of dataset.'''\n",
    "    dataloader = torch.utils.data.DataLoader(dataset, batch_size=1, shuffle=True, num_workers=2)\n",
    "    mean = torch.zeros(3)\n",
    "    std = torch.zeros(3)\n",
    "    print('==> Computing mean and std..')\n",
    "    for inputs, targets in dataloader:\n",
    "        for i in range(3):\n",
    "            mean[i] += inputs[:,i,:,:].mean()\n",
    "            std[i] += inputs[:,i,:,:].std()\n",
    "    mean.div_(len(dataset))\n",
    "    std.div_(len(dataset))\n",
    "    return mean, std"
   ]
  },
  {
   "cell_type": "code",
   "execution_count": 4,
   "metadata": {},
   "outputs": [],
   "source": [
    "# mean, std = get_mean_and_std(ImageFolder(root = \"./FER-2013/train\", transform=transforms.ToTensor()))\n",
    "# print(mean)\n",
    "# print(std)"
   ]
  },
  {
   "cell_type": "code",
   "execution_count": 5,
   "metadata": {},
   "outputs": [],
   "source": [
    "train_transform_compose = transforms.Compose([\n",
    "    transforms.ToTensor(), \n",
    "    \n",
    "    transforms.RandomHorizontalFlip(p=0.5),\n",
    "    transforms.RandomVerticalFlip(p=0.5),     \n",
    "    transforms.RandomResizedCrop(48, scale=(0.8, 1.2)),\n",
    "    transforms.RandomApply([transforms.RandomRotation(10)], p=0.5),\n",
    "    transforms.RandomApply([transforms.ColorJitter(brightness=0.5, contrast=0.5, saturation=0.5)], p=0.5),\n",
    "    transforms.RandomApply([transforms.RandomAffine(0, translate=(0.2, 0.2))], p=0.5),   \n",
    " \n",
    "    transforms.RandomErasing(),\n",
    "    ])\n",
    "\n",
    "validation_transform_compose = transforms.Compose([\n",
    "    transforms.ToTensor(), \n",
    "    ])\n",
    "\n",
    "def split_dataset(root, train_ratio, seed):\n",
    "    dataset1 = ImageFolder(root=root, transform=train_transform_compose) \n",
    "    torch.manual_seed(seed)\n",
    "    train_set, temp1 = torch.utils.data.random_split(dataset=dataset1,\\\n",
    "        lengths=[int(train_ratio*len(dataset1)), math.ceil((1.0-train_ratio)*len(dataset1))]) \n",
    "    \n",
    "    dataset2 = ImageFolder(root=root, transform=validation_transform_compose)\n",
    "    torch.manual_seed(seed) \n",
    "    temp2, validation_set = torch.utils.data.random_split(dataset=dataset2,\\\n",
    "        lengths=[int(train_ratio*len(dataset2)), math.ceil((1.0-train_ratio)*len(dataset2))]) \n",
    "    \n",
    "    return train_set, validation_set"
   ]
  },
  {
   "cell_type": "code",
   "execution_count": 6,
   "metadata": {},
   "outputs": [
    {
     "name": "stdout",
     "output_type": "stream",
     "text": [
      "25838\n",
      "2871\n"
     ]
    }
   ],
   "source": [
    "fer_root = \"./FER-2013/train\"\n",
    "\n",
    "train_set, validation_set = split_dataset(fer_root, 0.9, 2022)\n",
    "\n",
    "print(len(train_set))\n",
    "print(len(validation_set))"
   ]
  },
  {
   "cell_type": "markdown",
   "metadata": {},
   "source": [
    "# Data Loader"
   ]
  },
  {
   "cell_type": "code",
   "execution_count": 7,
   "metadata": {},
   "outputs": [],
   "source": [
    "def train_loader(batch_size):\n",
    "    train_loader = torch.utils.data.DataLoader(\n",
    "        train_set,\n",
    "        batch_size = batch_size,\n",
    "        shuffle = True,\n",
    "        num_workers = 0\n",
    "    )\n",
    "    return train_loader\n",
    "    \n",
    "def validation_loader(batch_size):\n",
    "    validation_loader = torch.utils.data.DataLoader(\n",
    "        validation_set,\n",
    "        batch_size = batch_size,\n",
    "        shuffle = True,\n",
    "        num_workers = 0\n",
    "    )\n",
    "    return validation_loader"
   ]
  },
  {
   "cell_type": "code",
   "execution_count": 8,
   "metadata": {},
   "outputs": [],
   "source": [
    "emotion = {0: 'Angry', 1: 'Disgust', 2: 'Fear', 3: 'Happy', 4: 'Sad', 5: 'Surprise', 6: 'Neutral'}"
   ]
  },
  {
   "cell_type": "code",
   "execution_count": 9,
   "metadata": {},
   "outputs": [],
   "source": [
    "def timshow(x):\n",
    "    xa = np.transpose(x.numpy(),(1,2,0))\n",
    "    plt.imshow(xa)\n",
    "    plt.axis('off')\n",
    "    plt.show()"
   ]
  },
  {
   "cell_type": "code",
   "execution_count": 10,
   "metadata": {},
   "outputs": [
    {
     "data": {
      "image/png": "[encoded data removed]",
      "text/plain": [
       "<Figure size 432x288 with 1 Axes>"
      ]
     },
     "metadata": {
      "needs_background": "light"
     },
     "output_type": "display_data"
    }
   ],
   "source": [
    "dataiter = iter(train_loader(32))\n",
    "images, labels = dataiter.next()\n",
    "timshow(torchvision.utils.make_grid(images))"
   ]
  },
  {
   "cell_type": "code",
   "execution_count": 11,
   "metadata": {},
   "outputs": [
    {
     "data": {
      "image/png": "[encoded data removed]",
      "text/plain": [
       "<Figure size 432x288 with 1 Axes>"
      ]
     },
     "metadata": {
      "needs_background": "light"
     },
     "output_type": "display_data"
    },
    {
     "name": "stdout",
     "output_type": "stream",
     "text": [
      "Neutral\n",
      "tensor([[[[0.8784, 0.9137, 0.9608,  ..., 0.5059, 0.4078, 0.4078],\n",
      "          [0.8118, 0.9255, 0.9725,  ..., 0.5333, 0.4353, 0.4275],\n",
      "          [0.7804, 0.9373, 0.9647,  ..., 0.5216, 0.4471, 0.4863],\n",
      "          ...,\n",
      "          [0.7412, 0.7176, 0.6392,  ..., 0.3843, 0.4353, 0.4706],\n",
      "          [0.6980, 0.7451, 0.6902,  ..., 0.4157, 0.4235, 0.4706],\n",
      "          [0.6980, 0.6784, 0.7294,  ..., 0.4431, 0.4314, 0.4980]],\n",
      "\n",
      "         [[0.8784, 0.9137, 0.9608,  ..., 0.5059, 0.4078, 0.4078],\n",
      "          [0.8118, 0.9255, 0.9725,  ..., 0.5333, 0.4353, 0.4275],\n",
      "          [0.7804, 0.9373, 0.9647,  ..., 0.5216, 0.4471, 0.4863],\n",
      "          ...,\n",
      "          [0.7412, 0.7176, 0.6392,  ..., 0.3843, 0.4353, 0.4706],\n",
      "          [0.6980, 0.7451, 0.6902,  ..., 0.4157, 0.4235, 0.4706],\n",
      "          [0.6980, 0.6784, 0.7294,  ..., 0.4431, 0.4314, 0.4980]],\n",
      "\n",
      "         [[0.8784, 0.9137, 0.9608,  ..., 0.5059, 0.4078, 0.4078],\n",
      "          [0.8118, 0.9255, 0.9725,  ..., 0.5333, 0.4353, 0.4275],\n",
      "          [0.7804, 0.9373, 0.9647,  ..., 0.5216, 0.4471, 0.4863],\n",
      "          ...,\n",
      "          [0.7412, 0.7176, 0.6392,  ..., 0.3843, 0.4353, 0.4706],\n",
      "          [0.6980, 0.7451, 0.6902,  ..., 0.4157, 0.4235, 0.4706],\n",
      "          [0.6980, 0.6784, 0.7294,  ..., 0.4431, 0.4314, 0.4980]]]])\n"
     ]
    }
   ],
   "source": [
    "dataiter = iter(validation_loader(1))\n",
    "images, labels = dataiter.next()\n",
    "timshow(torchvision.utils.make_grid(images))\n",
    "print(emotion[int(labels)])\n",
    "print(images)"
   ]
  },
  {
   "cell_type": "markdown",
   "metadata": {},
   "source": [
    "# Attention"
   ]
  },
  {
   "cell_type": "code",
   "execution_count": 12,
   "metadata": {},
   "outputs": [],
   "source": [
    "# SE: Squeeze-and-Excitation Attention\n",
    "# Adapted from GitHub\n",
    "# https://github.com/xmu-xiaoma666/External-Attention-pytorch/blob/master/model/attention/SEAttention.py\n",
    "class SELayer(nn.Module):\n",
    "    def __init__(self, channel, reduction=16):\n",
    "        super(SELayer, self).__init__()\n",
    "        self.avg_pool = nn.AdaptiveAvgPool2d(1)  # 1*1*C\n",
    "        # Excitation\n",
    "        self.fc = nn.Sequential(\n",
    "            nn.Linear(channel, channel // reduction, bias=False),  # 1*1*C/r\n",
    "            nn.ReLU(inplace=True),  # 1*1*C/r\n",
    "            nn.Linear(channel // reduction, channel, bias=False),  # 1*1*C\n",
    "            nn.Sigmoid()\n",
    "        )\n",
    "\n",
    "    def forward(self, x):\n",
    "        b, c, _, _ = x.size()  # b:batchsize c:channel\n",
    "        y = self.avg_pool(x).view(b, c)\n",
    "        y = self.fc(y).view(b, c, 1, 1)\n",
    "\n",
    "        return x * y.expand_as(x)\n",
    "    \n",
    "     \n",
    "# CBAM: Convolutional Block Attention Module  \n",
    "# Adapted from GitHub\n",
    "# https://github.com/xmu-xiaoma666/External-Attention-pytorch/blob/master/model/attention/CBAM.py\n",
    "class ChannelAttention(nn.Module):\n",
    "    def __init__(self, channel, reduction=16):\n",
    "        super(ChannelAttention, self).__init__()\n",
    "        self.max_pool = nn.AdaptiveMaxPool2d(1)\n",
    "        self.avg_pool = nn.AdaptiveAvgPool2d(1)\n",
    "        self.fc = nn.Sequential(\n",
    "            nn.Linear(channel, channel//reduction, False),  # 1*1*C/r\n",
    "            nn.ReLU(inplace=True),  # 1*1*C/r\n",
    "            nn.Linear(channel//reduction, channel, False)  # 1*1*C\n",
    "            )\n",
    "        self.sigmoid = nn.Sigmoid()\n",
    "\n",
    "    def forward(self, x):\n",
    "        b, c, _, _ = x.size()  # b:batchsize c:channel\n",
    "        # MaxPool\n",
    "        max_pool_out = self.max_pool(x).view([b, c])\n",
    "        max_fc_out = self.fc(max_pool_out).view([b, c, 1, 1])\n",
    "        # AvgPool\n",
    "        avg_pool_out = self.avg_pool(x).view([b, c])\n",
    "        avg_fc_out = self.fc(avg_pool_out).view([b, c, 1, 1])\n",
    "        out = max_fc_out + avg_fc_out\n",
    "        out = self.sigmoid(out)\n",
    "        \n",
    "        return out * x\n",
    "\n",
    "class SpatialAttention(nn.Module):\n",
    "    def __init__(self, kernel_size=7):\n",
    "        super(SpatialAttention, self).__init__()\n",
    "        self.conv = nn.Conv2d(2, 1, kernel_size, padding=kernel_size//2, bias=False)\n",
    "        self.sigmoid = nn.Sigmoid()\n",
    "\n",
    "    def forward(self, x):\n",
    "        max_out, _ = torch.max(x, dim=1, keepdim=True)\n",
    "        avg_out = torch.mean(x, dim=1, keepdim=True)\n",
    "        pool_out = torch.cat([max_out, avg_out], dim=1)  # 2*H*W\n",
    "        out = self.conv(pool_out)  # 2*H*W -> 1*H*W\n",
    "        out = self.sigmoid(out)\n",
    "        \n",
    "        return out * x\n"
   ]
  },
  {
   "cell_type": "markdown",
   "metadata": {},
   "source": [
    "# Model"
   ]
  },
  {
   "cell_type": "code",
   "execution_count": 13,
   "metadata": {},
   "outputs": [],
   "source": [
    "# Residual neural network\n",
    "# Adapted from GitHub\n",
    "# https://github.com/weiaicunzai/pytorch-cifar100/blob/master/models/resnet.py\n",
    "class BasicBlock(nn.Module):\n",
    "    expansion = 1\n",
    "\n",
    "    def __init__(self, in_planes, planes, stride=1, reduction=16):\n",
    "        super(BasicBlock, self).__init__()\n",
    "        self.conv1 = nn.Conv2d(in_planes, planes, kernel_size=3, stride=stride, padding=1, bias=False)\n",
    "        self.bn1 = nn.BatchNorm2d(planes)\n",
    "        self.relu = nn.ReLU(inplace=True)\n",
    "\n",
    "        self.dropout = nn.Dropout(p=0.1)\n",
    "        \n",
    "        self.conv2 = nn.Conv2d(planes, planes, kernel_size=3, stride=1, padding=1, bias=False)\n",
    "        self.bn2 = nn.BatchNorm2d(planes)\n",
    "        \n",
    "        self.shortcut = nn.Sequential()\n",
    "        if stride != 1 or in_planes != self.expansion*planes:\n",
    "            self.shortcut = nn.Sequential(\n",
    "                nn.Conv2d(in_planes, self.expansion*planes,\n",
    "                          kernel_size=1, stride=stride, bias=False),\n",
    "                nn.BatchNorm2d(self.expansion*planes)\n",
    "            )\n",
    "\n",
    "    def forward(self, x):\n",
    "        out = self.conv1(x)\n",
    "        out = self.bn1(out)\n",
    "        out = self.relu(out)\n",
    "        \n",
    "        out = self.dropout(out)\n",
    "        \n",
    "        out = self.conv2(out)\n",
    "        out = self.bn2(out)\n",
    "        \n",
    "        out = out + self.shortcut(x)\n",
    "        out = self.relu(out)\n",
    "        return out\n",
    "\n",
    "\n",
    "class Bottleneck(nn.Module):\n",
    "    expansion = 4\n",
    "\n",
    "    def __init__(self, in_planes, planes, stride=1):\n",
    "        super(Bottleneck, self).__init__()\n",
    "        self.conv1 = nn.Conv2d(in_planes, planes, kernel_size=1, bias=False)\n",
    "        self.bn1 = nn.BatchNorm2d(planes)\n",
    "        self.conv2 = nn.Conv2d(planes, planes, kernel_size=3,\n",
    "                               stride=stride, padding=1, bias=False)\n",
    "        self.bn2 = nn.BatchNorm2d(planes)\n",
    "        self.conv3 = nn.Conv2d(planes, self.expansion *\n",
    "                               planes, kernel_size=1, bias=False)\n",
    "        self.bn3 = nn.BatchNorm2d(self.expansion*planes)\n",
    "\n",
    "        self.shortcut = nn.Sequential()\n",
    "        if stride != 1 or in_planes != self.expansion*planes:\n",
    "            self.shortcut = nn.Sequential(\n",
    "                nn.Conv2d(in_planes, self.expansion*planes,\n",
    "                          kernel_size=1, stride=stride, bias=False),\n",
    "                nn.BatchNorm2d(self.expansion*planes)\n",
    "            )\n",
    "\n",
    "    def forward(self, x):\n",
    "        out = F.relu(self.bn1(self.conv1(x)))\n",
    "        out = F.relu(self.bn2(self.conv2(out)))\n",
    "        out = self.bn3(self.conv3(out))\n",
    "        out += self.shortcut(x)\n",
    "        out = F.relu(out)\n",
    "        return out\n",
    "\n",
    "\n",
    "class ResNet(nn.Module):\n",
    "    def __init__(self, block, num_blocks, num_classes=7, reduction=16):\n",
    "        super(ResNet, self).__init__()\n",
    "        self.in_planes = 64\n",
    "        \n",
    "        self.conv1 = nn.Conv2d(3, 64, kernel_size=3, stride=1, padding=1, bias=False)\n",
    "        self.bn1 = nn.BatchNorm2d(64)\n",
    "        self.relu = nn.ReLU(inplace=True)\n",
    "\n",
    "        self.ca1 = ChannelAttention(64)\n",
    "        self.sa1 = SpatialAttention()\n",
    "        \n",
    "        self.layer1 = self._make_layer(block, 64, num_blocks[0], stride=1)\n",
    "        self.layer2 = self._make_layer(block, 128, num_blocks[1], stride=2)\n",
    "        self.layer3 = self._make_layer(block, 256, num_blocks[2], stride=2)\n",
    "        self.layer4 = self._make_layer(block, 512, num_blocks[3], stride=2)\n",
    "        \n",
    "        self.se2 = SELayer(512, reduction)\n",
    "\n",
    "        self.fc1 = nn.Linear(512 * block.expansion, 128 * block.expansion)\n",
    "        self.fc2 = nn.Linear(128 * block.expansion, num_classes)\n",
    "\n",
    "    def _make_layer(self, block, planes, num_blocks, stride):\n",
    "        strides = [stride] + [1]*(num_blocks-1)\n",
    "        layers = []\n",
    "        for stride in strides:\n",
    "            layers.append(block(self.in_planes, planes, stride))\n",
    "            self.in_planes = planes * block.expansion\n",
    "        return nn.Sequential(*layers)\n",
    "\n",
    "    def forward(self, x):\n",
    "        out = self.conv1(x)\n",
    "        out = self.bn1(out)\n",
    "        out = self.relu(out)\n",
    "\n",
    "        out = self.ca1(out)\n",
    "        out = self.sa1(out)\n",
    "        \n",
    "        out = self.layer1(out)\n",
    "        out = self.layer2(out)\n",
    "        out = self.layer3(out)\n",
    "        out = self.layer4(out)\n",
    "        \n",
    "        out = self.se2(out)\n",
    "        \n",
    "        out = F.avg_pool2d(out, 4)\n",
    "        out = out.view(out.size(0), -1)\n",
    "        out = self.fc1(out)\n",
    "        out = self.fc2(out)\n",
    "        \n",
    "        return out\n"
   ]
  },
  {
   "cell_type": "code",
   "execution_count": 14,
   "metadata": {},
   "outputs": [],
   "source": [
    "def Resnet():\n",
    "\n",
    "    model = ResNet(BasicBlock, [2, 2, 2, 2])  # resnet18\n",
    "  \n",
    "    return model\n"
   ]
  },
  {
   "cell_type": "code",
   "execution_count": 15,
   "metadata": {},
   "outputs": [],
   "source": [
    "model = Resnet().to(device)"
   ]
  },
  {
   "cell_type": "markdown",
   "metadata": {},
   "source": [
    "# Label Smoothing"
   ]
  },
  {
   "cell_type": "code",
   "execution_count": 16,
   "metadata": {},
   "outputs": [],
   "source": [
    "# Adapted from GitHub\n",
    "# https://github.com/seominseok0429/label-smoothing-visualization-pytorch\n",
    "class LabelSmoothingCrossEntropy(nn.Module):\n",
    "    def __init__(self):\n",
    "        super(LabelSmoothingCrossEntropy, self).__init__()\n",
    "    def forward(self, x, target, smoothing=0.1):\n",
    "        confidence = 1. - smoothing\n",
    "        logprobs = F.log_softmax(x, dim=-1)\n",
    "        nll_loss = -logprobs.gather(dim=-1, index=target.unsqueeze(1))\n",
    "        nll_loss = nll_loss.squeeze(1)\n",
    "        smooth_loss = -logprobs.mean(dim=-1)\n",
    "        loss = confidence * nll_loss + smoothing * smooth_loss\n",
    "        return loss.mean()"
   ]
  },
  {
   "cell_type": "code",
   "execution_count": 17,
   "metadata": {},
   "outputs": [],
   "source": [
    "validation_loss_fn = nn.CrossEntropyLoss().to(device)\n",
    "\n",
    "# label smooth\n",
    "loss_fn = LabelSmoothingCrossEntropy().to(device)"
   ]
  },
  {
   "cell_type": "markdown",
   "metadata": {},
   "source": [
    "# Mixup"
   ]
  },
  {
   "cell_type": "code",
   "execution_count": 18,
   "metadata": {},
   "outputs": [],
   "source": [
    "# Adapted from GitHub\n",
    "# https://github.com/facebookresearch/mixup-cifar10/blob/main/train.py\n",
    "def mixup_data(x, y, alpha=0.2):\n",
    "    '''Returns mixed inputs, pairs of targets, and lambda'''\n",
    "    if alpha > 0:\n",
    "        lam = np.random.beta(alpha, alpha)\n",
    "    else:\n",
    "        lam = 1\n",
    "\n",
    "    batch_size = x.size()[0]\n",
    "    index = torch.randperm(batch_size).cuda()\n",
    "\n",
    "    mixed_x = lam * x + (1 - lam) * x[index, :]\n",
    "    y_a, y_b = y, y[index]\n",
    "    return mixed_x, y_a, y_b, lam\n",
    "\n",
    "\n",
    "def mixup_loss_fn(loss_fn, pred, y_a, y_b, lam):\n",
    "    return lam * loss_fn(pred, y_a) + (1 - lam) * loss_fn(pred, y_b)"
   ]
  },
  {
   "cell_type": "markdown",
   "metadata": {},
   "source": [
    "# Training (schedule ReduceLROnPlateau)"
   ]
  },
  {
   "cell_type": "code",
   "execution_count": 19,
   "metadata": {},
   "outputs": [],
   "source": [
    "def Compute_Loss_Accuracy(loader):\n",
    "    \n",
    "    running_loss = 0.0\n",
    "    n = 0\n",
    "    total = 0\n",
    "    correct = 0\n",
    "    \n",
    "    net = model.eval()\n",
    "    with torch.no_grad():\n",
    "        for data in loader:\n",
    "            inputs, labels = data\n",
    "            inputs = inputs.to(device)\n",
    "            labels = labels.to(device)\n",
    "                       \n",
    "            outputs = net(inputs)  # Forward\n",
    "            \n",
    "            # accumulate loss\n",
    "            running_loss = running_loss + validation_loss_fn(outputs, labels)\n",
    "            running_loss = running_loss.cpu()\n",
    "            n = n + 1\n",
    "            \n",
    "            # accumulate data for accuracy\n",
    "            _, predicted = torch.max(outputs.data, 1)\n",
    "            correct = correct + (predicted == labels).sum().item()\n",
    "            total = total + labels.size(0)\n",
    "            \n",
    "    return running_loss/n, correct/total "
   ]
  },
  {
   "cell_type": "code",
   "execution_count": 20,
   "metadata": {},
   "outputs": [],
   "source": [
    "def Train_Model(epoch_num, bs, pt_name):\n",
    "    \n",
    "    loss_path = 'C:/Users/PC/Desktop/MSc Project/' + \"loss-\" + pt_name\n",
    "    net_path = 'C:/Users/PC/Desktop/MSc Project/' + \"net-\" + pt_name\n",
    "    best_path = 'C:/Users/PC/Desktop/MSc Project/' + \"best-\" + pt_name\n",
    "    \n",
    "    nepochs = epoch_num\n",
    "    tra_load = train_loader(bs)\n",
    "    val_load = validation_loader(64)\n",
    "    \n",
    "    best_acc = 0.0\n",
    "    data_recording = np.zeros((4,nepochs+1))\n",
    "      \n",
    "    net = model\n",
    "    optimizer = torch.optim.SGD(model.parameters(), lr=0.1, momentum=0.9, weight_decay=0.0001, nesterov=True)\n",
    "    \n",
    "    # scheduler = torch.optim.lr_scheduler.CosineAnnealingLR(optimizer, T_max=nepochs)\n",
    "    scheduler = torch.optim.lr_scheduler.ReduceLROnPlateau(\n",
    "        optimizer, mode='max', factor=0.75, patience=5, verbose=True)\n",
    "    \n",
    "    for epoch in range(1, nepochs+1):\n",
    "        \n",
    "        running_loss = 0.0\n",
    "        n = 0\n",
    "        total = 0\n",
    "        correct = 0    \n",
    "        \n",
    "        net = model.train()\n",
    "        for data in tra_load:\n",
    "            inputs, labels = data\n",
    "            inputs = inputs.to(device)\n",
    "            labels = labels.to(device)\n",
    "            \n",
    "            inputs, labels_a, labels_b, lam = mixup_data(inputs, labels, 1.0)\n",
    "            inputs, labels_a, labels_b = map(Variable, (inputs, labels_a, labels_b))\n",
    "      \n",
    "            optimizer.zero_grad()\n",
    "            outputs = net(inputs)\n",
    "            loss = mixup_loss_fn(loss_fn, outputs, labels_a, labels_b, lam)\n",
    "            loss.backward()\n",
    "            optimizer.step()\n",
    "    \n",
    "            # accumulate loss\n",
    "            running_loss = running_loss + loss.item()\n",
    "            n = n + 1\n",
    "        \n",
    "            # accumulate data for accuracy\n",
    "            _, predicted = torch.max(outputs.data, 1)\n",
    "            correct += (lam * predicted.eq(labels_a.data).cpu().sum().float()\n",
    "                    + (1 - lam) * predicted.eq(labels_b.data).cpu().sum().float())\n",
    "            total = total + labels.size(0)\n",
    "    \n",
    "        train_l = running_loss/n  # mean training loss\n",
    "        train_a = correct/total  # training accuracy\n",
    "        \n",
    "        # mean test loss and test accuracy\n",
    "        validation_l, validation_a = Compute_Loss_Accuracy(val_load)\n",
    " \n",
    "        # scheduler.step()\n",
    "        scheduler.step(validation_a)\n",
    "        \n",
    "        # print(f\"Learning Rate:{optimizer.param_groups[0]['lr']}\")\n",
    "        \n",
    "        # save loss and accuracy\n",
    "        data_recording[:,epoch] = (train_l, train_a, validation_l, validation_a)\n",
    "        torch.save(data_recording, loss_path)\n",
    "    \n",
    "        print(f\"Epoch:{epoch}  |  Training Loss:{train_l:.4f} Training Accuracy:{train_a:.1%}  |  Validation Loss:{validation_l:.4f} Validation Accuracy:{validation_a:.1%}\")\n",
    "        \n",
    "        # save best network parameters\n",
    "        if validation_a > best_acc:\n",
    "            best_acc = validation_a\n",
    "            torch.save({\"model_dict\": net.state_dict()}, best_path)\n",
    "        \n",
    "        # save complete model    \n",
    "        torch.save({'model_dict' : net.state_dict(),\n",
    "                    'optimizer_dict' : optimizer.state_dict(),\n",
    "                    'epoch' : epoch,\n",
    "                    'scheduler_dict': scheduler.state_dict(),\n",
    "                    }, net_path)\n"
   ]
  },
  {
   "cell_type": "markdown",
   "metadata": {},
   "source": [
    "# Model Training"
   ]
  },
  {
   "cell_type": "code",
   "execution_count": 21,
   "metadata": {},
   "outputs": [],
   "source": [
    "pt = '7.8-3rd' + '.pt'"
   ]
  },
  {
   "cell_type": "code",
   "execution_count": 22,
   "metadata": {},
   "outputs": [],
   "source": [
    "# Train_Model(200, 128, pt)"
   ]
  },
  {
   "cell_type": "markdown",
   "metadata": {},
   "source": [
    "# Visualization"
   ]
  },
  {
   "cell_type": "code",
   "execution_count": 23,
   "metadata": {},
   "outputs": [],
   "source": [
    "def loss_graph(pt_file):\n",
    "    data = torch.load('loss-' + pt_file)\n",
    "    plt.title('training and validation loss')\n",
    "    plt.plot(data[0], 'r', label = 'training loss')\n",
    "    plt.plot(data[2], 'g', label = 'validation loss')\n",
    "    plt.ylabel('loss')\n",
    "    plt.legend(loc='lower left')\n",
    "    plt.grid()\n",
    "    plt.show()\n",
    "    \n",
    "def accuracy_graph(pt_file):\n",
    "    data = torch.load('loss-' + pt_file)\n",
    "    plt.title('training and validation accuracy')\n",
    "    plt.plot(data[1], 'm', label = 'training accuracy')\n",
    "    plt.plot(data[3], 'b', label = 'validation accuracy')\n",
    "    plt.ylabel('accuracy')\n",
    "    plt.legend(loc='lower right')\n",
    "    plt.grid()\n",
    "    plt.show()"
   ]
  },
  {
   "cell_type": "code",
   "execution_count": 24,
   "metadata": {},
   "outputs": [
    {
     "data": {
      "image/png": "[encoded data removed]",
      "text/plain": [
       "<Figure size 432x288 with 1 Axes>"
      ]
     },
     "metadata": {
      "needs_background": "light"
     },
     "output_type": "display_data"
    },
    {
     "data": {
      "image/png": "[encoded data removed]",
      "text/plain": [
       "<Figure size 432x288 with 1 Axes>"
      ]
     },
     "metadata": {
      "needs_background": "light"
     },
     "output_type": "display_data"
    }
   ],
   "source": [
    "loss_graph(pt)\n",
    "accuracy_graph(pt)"
   ]
  },
  {
   "cell_type": "markdown",
   "metadata": {},
   "source": [
    "# Prediction"
   ]
  },
  {
   "cell_type": "code",
   "execution_count": 25,
   "metadata": {},
   "outputs": [],
   "source": [
    "test_set = ImageFolder(root=\"./FER-2013/test\", transform=transforms.ToTensor())\n",
    "\n",
    "test_loader = torch.utils.data.DataLoader(\n",
    "    test_set,\n",
    "    batch_size = 256,\n",
    "    shuffle = False,\n",
    "    num_workers = 0\n",
    ")"
   ]
  },
  {
   "cell_type": "code",
   "execution_count": 26,
   "metadata": {},
   "outputs": [],
   "source": [
    "def predict(pt_flie):\n",
    "\n",
    "    d = torch.load('net-' + pt_flie)\n",
    "    \n",
    "    model.load_state_dict(d[\"model_dict\"])\n",
    "    net = model.to(device).eval()\n",
    "\n",
    "    correct = 0.0\n",
    " \n",
    "    with torch.no_grad():\n",
    "        net.eval() \n",
    "        for data in test_loader:\n",
    "            images, labels = data\n",
    "            images = images.to(device)\n",
    "            labels = labels.to(device)\n",
    "                       \n",
    "            outputs = net(images)\n",
    "    \n",
    "            _, predicted = torch.max(outputs.data, 1)\n",
    "            correct = correct + (predicted == labels).sum().item()\n",
    " \n",
    "        test_accuracy = correct/len(test_loader.dataset)\n",
    "        \n",
    "        print(f\"Accuracy:{test_accuracy:.2%}\")\n",
    "        "
   ]
  },
  {
   "cell_type": "code",
   "execution_count": 27,
   "metadata": {},
   "outputs": [
    {
     "name": "stdout",
     "output_type": "stream",
     "text": [
      "Accuracy:70.76%\n"
     ]
    }
   ],
   "source": [
    "predict(pt)"
   ]
  },
  {
   "cell_type": "markdown",
   "metadata": {},
   "source": [
    "# Confusion Matrix"
   ]
  },
  {
   "cell_type": "code",
   "execution_count": 28,
   "metadata": {},
   "outputs": [
    {
     "name": "stdout",
     "output_type": "stream",
     "text": [
      "('Angry', 'Disgust', 'Fear', 'Happy', 'Sad', 'Surprise', 'Neutral')\n"
     ]
    }
   ],
   "source": [
    "classes = tuple(['Angry', 'Disgust', 'Fear', 'Happy', 'Sad', 'Surprise', 'Neutral'])\n",
    "print(classes)"
   ]
  },
  {
   "cell_type": "code",
   "execution_count": 29,
   "metadata": {},
   "outputs": [],
   "source": [
    "def accuracy(cnfm):\n",
    "    return cnfm.trace()/cnfm.sum((0,1))\n",
    "\n",
    "def recalls(cnfm):\n",
    "    return np.diag(cnfm)/cnfm.sum(1)\n",
    "\n",
    "def precisions(cnfm):\n",
    "    return np.diag(cnfm)/cnfm.sum(0)    \n",
    "\n",
    "def fscore(p, r):\n",
    "    f = (2*p*r)/(p+r)\n",
    "    return f"
   ]
  },
  {
   "cell_type": "code",
   "execution_count": 30,
   "metadata": {},
   "outputs": [],
   "source": [
    "import itertools\n",
    "\n",
    "def Confusion_Matrix(pt_flie, loader):\n",
    "    # load model parameters\n",
    "    d = torch.load('net-' + pt_flie)\n",
    "    model.load_state_dict(d[\"model_dict\"])\n",
    "    net = model.to(device).eval()\n",
    "\n",
    "    # initialise confusion matrix\n",
    "    label = np.arange(0, len(classes))\n",
    "    label_num = label.shape[0]\n",
    "    \n",
    "    # confusion matrix tensor\n",
    "    cnfm = np.zeros((label_num,label_num),dtype=int)\n",
    "\n",
    "    with torch.no_grad():\n",
    "        for data in loader:\n",
    "                      \n",
    "            images, labels = data\n",
    "            images = images.to(device)\n",
    "            labels = labels.to(device)\n",
    "            \n",
    "            outputs = net(images)\n",
    "        \n",
    "            _, predicted = torch.max(outputs.data, 1)    \n",
    "       \n",
    "            for i in range(labels.size(0)):\n",
    "                cnfm[labels[i].item(),predicted[i].item()] = cnfm[labels[i].item(),predicted[i].item()] + 1\n",
    "    \n",
    "    # Confusion matrix         \n",
    "    print(\"Confusion matrix\")\n",
    "    print(cnfm)\n",
    "    \n",
    "    # Accuracy, Precision, Recall\n",
    "    print(f\"Accuracy : {accuracy(cnfm) :.2%}\")\n",
    "    r = recalls(cnfm)\n",
    "    p = precisions(cnfm)\n",
    "    for i in range(label_num):\n",
    "        print(f\"Class {classes[i]} :   Precision {p[i] :.3}   Recall {r[i] :.3}   F1 Score {fscore(p[i], r[i]) :.3}\")\n",
    "    \n",
    "    # draw graph    \n",
    "    plt.imshow(cnfm, cmap='Oranges', interpolation='nearest')\n",
    "    plt.title(f\"Overall Accuracy : {accuracy(cnfm) :.2%}\")\n",
    "    plt.colorbar()  \n",
    "    plt.xticks(label, classes, rotation=90)\n",
    "    plt.xlabel('Predict Label')\n",
    "    plt.yticks(label, classes)\n",
    "    plt.ylabel('True Label')\n",
    "    # data in graph\n",
    "    for i, j in itertools.product(range(cnfm.shape[0]), range(cnfm.shape[1])):\n",
    "        plt.text(j, i, cnfm[i, j], verticalalignment=\"center\", horizontalalignment=\"center\",color=\"black\")\n",
    "   "
   ]
  },
  {
   "cell_type": "code",
   "execution_count": 31,
   "metadata": {},
   "outputs": [
    {
     "name": "stdout",
     "output_type": "stream",
     "text": [
      "Confusion matrix\n",
      "[[ 627    6   87   24   94  102   18]\n",
      " [  30   64    3    4    3    7    0]\n",
      " [ 101    3  541   25  102  167   85]\n",
      " [  20    0   25 1595   78   27   29]\n",
      " [  58    1   61   72  884  142   15]\n",
      " [ 116    2  151   40  239  681   18]\n",
      " [  23    0   58   35   17   11  687]]\n",
      "Accuracy : 70.76%\n",
      "Class Angry :   Precision 0.643   Recall 0.654   F1 Score 0.649\n",
      "Class Disgust :   Precision 0.842   Recall 0.577   F1 Score 0.684\n",
      "Class Fear :   Precision 0.584   Recall 0.528   F1 Score 0.555\n",
      "Class Happy :   Precision 0.889   Recall 0.899   F1 Score 0.894\n",
      "Class Sad :   Precision 0.624   Recall 0.717   F1 Score 0.667\n",
      "Class Surprise :   Precision 0.599   Recall 0.546   F1 Score 0.571\n",
      "Class Neutral :   Precision 0.806   Recall 0.827   F1 Score 0.816\n"
     ]
    },
    {
     "data": {
      "image/png": "[encoded data removed]",
      "text/plain": [
       "<Figure size 432x288 with 2 Axes>"
      ]
     },
     "metadata": {
      "needs_background": "light"
     },
     "output_type": "display_data"
    }
   ],
   "source": [
    "Confusion_Matrix(pt, test_loader)"
   ]
  },
  {
   "cell_type": "markdown",
   "metadata": {},
   "source": [
    "# Recognition Video Image"
   ]
  },
  {
   "cell_type": "code",
   "execution_count": 32,
   "metadata": {},
   "outputs": [],
   "source": [
    "recog_transform_compose = transforms.Compose([\n",
    "    transforms.ToTensor(), \n",
    "    transforms.Resize(48),\n",
    "    transforms.RandomCrop(48),\n",
    "    ])"
   ]
  },
  {
   "cell_type": "code",
   "execution_count": 33,
   "metadata": {},
   "outputs": [],
   "source": [
    "def recog(pt, img_tensor):\n",
    "    d = torch.load('net-' + pt)\n",
    "    model.load_state_dict(d[\"model_dict\"])\n",
    "    net = model.to(device).eval()\n",
    "    \n",
    "    with torch.no_grad():\n",
    "        net.eval() \n",
    "        \n",
    "        img_tensor = img_tensor.to(device)\n",
    "                           \n",
    "        outputs = net(img_tensor)\n",
    "        _, predicted = torch.max(outputs.data, 1)\n",
    "                 \n",
    "        prediction = emotion[int(predicted)]\n",
    "        \n",
    "    return prediction "
   ]
  },
  {
   "cell_type": "code",
   "execution_count": 34,
   "metadata": {},
   "outputs": [],
   "source": [
    "def face_recog(img_name):\n",
    "    filepath = \"./Reality/\" + img_name\n",
    "    img = cv2.imread(filepath)\n",
    "    gray = cv2.cvtColor(img, cv2.COLOR_BGR2GRAY)\n",
    "    \n",
    "    classifier = cv2.CascadeClassifier(\"./haarcascades/haarcascade_frontalface_default.xml\") \n",
    "    faceRects = classifier.detectMultiScale(gray, scaleFactor=1.2, minNeighbors=3, minSize=(48, 48))\n",
    "    \n",
    "    if len(faceRects):\n",
    "        for faceRect in faceRects:\n",
    "            x, y, w, h = faceRect\n",
    "\n",
    "            cv2.rectangle(img, (x, y), (x+h, y+w), (0, 255, 0), 2)\n",
    "            \n",
    "            # extract face\n",
    "            face = gray[y:y+w, x:x+h]\n",
    "            face_tensor = recog_transform_compose(face)  # torch.Size([1, 48, 48])\n",
    "            copy_face_tensor = face_tensor.repeat(3, 1, 1)  # torch.Size([3, 48, 48])\n",
    "            img_tensor = torch.unsqueeze(copy_face_tensor, 0)  # torch.Size([1, 3, 48, 48])\n",
    "            \n",
    "            # recognition\n",
    "            text = recog(pt, img_tensor)\n",
    "        \n",
    "            cv2.putText(img, text, (x, y), cv2.FONT_HERSHEY_PLAIN, 3, (0, 255, 255), 2)\n",
    "    \n",
    "    cv2.imshow(\"Emotion Recognition\", img)\n",
    "    cv2.waitKey(0)\n",
    "    cv2.destroyAllWindows()"
   ]
  },
  {
   "cell_type": "code",
   "execution_count": 36,
   "metadata": {},
   "outputs": [],
   "source": [
    "img_name = \"1.jpg\"\n",
    "face_recog(img_name)"
   ]
  }
 ],
 "metadata": {
  "interpreter": {
   "hash": "91bb753b057673435fb8d6f6a083e6c818364728098c7ae050ca3a25357dd754"
  },
  "kernelspec": {
   "display_name": "Python 3.8.8 ('base')",
   "language": "python",
   "name": "python3"
  },
  "language_info": {
   "codemirror_mode": {
    "name": "ipython",
    "version": 3
   },
   "file_extension": ".py",
   "mimetype": "text/x-python",
   "name": "python",
   "nbconvert_exporter": "python",
   "pygments_lexer": "ipython3",
   "version": "3.8.8"
  },
  "orig_nbformat": 4
 },
 "nbformat": 4,
 "nbformat_minor": 2
}
